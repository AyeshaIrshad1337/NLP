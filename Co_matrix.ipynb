{
 "cells": [
  {
   "cell_type": "code",
   "execution_count": 1,
   "metadata": {},
   "outputs": [
    {
     "name": "stdout",
     "output_type": "stream",
     "text": [
      "Requirement already satisfied: scipy in c:\\users\\lenovo\\anaconda3\\lib\\site-packages (1.10.1)\n",
      "Requirement already satisfied: numpy<1.27.0,>=1.19.5 in c:\\users\\lenovo\\anaconda3\\lib\\site-packages (from scipy) (1.24.3)\n"
     ]
    }
   ],
   "source": [
    "! pip install scipy"
   ]
  },
  {
   "cell_type": "code",
   "execution_count": 2,
   "metadata": {},
   "outputs": [],
   "source": [
    "import numpy as np\n",
    "import pandas as pd\n",
    "import scipy\n",
    "from nltk.tokenize import word_tokenize"
   ]
  },
  {
   "cell_type": "code",
   "execution_count": null,
   "metadata": {},
   "outputs": [],
   "source": [
    "def create_cooccurrence_matrix(sentences,window_size=2):\n",
    "    vocab=[]\n",
    "    data=[]\n",
    "    row=[]\n",
    "    col=[]\n",
    "    for sentence in sentences:\n",
    "        tokens=[\n",
    "            \n",
    "                token\n",
    "                for token in word_tokenize(sentence.strip())\n",
    "                if token != u\"\"\n",
    "            ]\n",
    "        for pos, token in enumerate(tokens):\n",
    "            i=vocab.setdefault(token,len(vocab))\n",
    "            start=max(0,ppos-window_size)\n",
    "            end=min(len(tokens),pos+window_size+1)\n",
    "            for pos2 in range(start,end):\n",
    "                "
   ]
  }
 ],
 "metadata": {
  "kernelspec": {
   "display_name": "base",
   "language": "python",
   "name": "python3"
  },
  "language_info": {
   "codemirror_mode": {
    "name": "ipython",
    "version": 3
   },
   "file_extension": ".py",
   "mimetype": "text/x-python",
   "name": "python",
   "nbconvert_exporter": "python",
   "pygments_lexer": "ipython3",
   "version": "3.11.4"
  },
  "orig_nbformat": 4
 },
 "nbformat": 4,
 "nbformat_minor": 2
}
