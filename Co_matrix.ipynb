{
 "cells": [
  {
   "cell_type": "code",
   "execution_count": 1,
   "metadata": {},
   "outputs": [
    {
     "name": "stdout",
     "output_type": "stream",
     "text": [
      "Requirement already satisfied: scipy in c:\\users\\lenovo\\anaconda3\\lib\\site-packages (1.10.1)\n",
      "Requirement already satisfied: numpy<1.27.0,>=1.19.5 in c:\\users\\lenovo\\anaconda3\\lib\\site-packages (from scipy) (1.24.3)\n"
     ]
    }
   ],
   "source": [
    "! pip install scipy"
   ]
  },
  {
   "cell_type": "code",
   "execution_count": 2,
   "metadata": {},
   "outputs": [],
   "source": [
    "import numpy as np\n",
    "import pandas as pd\n",
    "import scipy\n",
    "from nltk.tokenize import word_tokenize"
   ]
  },
  {
   "cell_type": "code",
   "execution_count": 6,
   "metadata": {},
   "outputs": [
    {
     "name": "stderr",
     "output_type": "stream",
     "text": [
      "[nltk_data] Downloading package punkt to\n",
      "[nltk_data]     C:\\Users\\Lenovo\\AppData\\Roaming\\nltk_data...\n",
      "[nltk_data]   Unzipping tokenizers\\punkt.zip.\n"
     ]
    },
    {
     "data": {
      "text/plain": [
       "True"
      ]
     },
     "execution_count": 6,
     "metadata": {},
     "output_type": "execute_result"
    }
   ],
   "source": [
    "import nltk\n",
    "nltk.download('punkt')"
   ]
  },
  {
   "cell_type": "code",
   "execution_count": 21,
   "metadata": {},
   "outputs": [],
   "source": [
    "def create_cooccurrence_matrix(sentences,window_size=2):\n",
    "    vocab={}\n",
    "    data=[]\n",
    "    row=[]\n",
    "    col=[]\n",
    "    for sentence in sentences:\n",
    "        tokens=[\n",
    "            \n",
    "                token\n",
    "                for token in word_tokenize(sentence.strip())\n",
    "                if token != u\"\"\n",
    "            ]\n",
    "        for pos, token in enumerate(tokens):\n",
    "            i=vocab.setdefault(token,len(vocab))\n",
    "            start=max(0,pos-window_size)\n",
    "            end=min(len(tokens),pos+window_size+1)\n",
    "            for pos2 in range(start,end):\n",
    "                j=vocab.setdefault(tokens[pos2],len(vocab))\n",
    "                data.append(1.)\n",
    "                row.append(i)\n",
    "                col.append(j)\n",
    "    cooc_matrix_sparse=scipy.sparse.coo_matrix((data,(row,col)))\n",
    "    return vocab,cooc_matrix_sparse                \n"
   ]
  },
  {
   "cell_type": "code",
   "execution_count": 22,
   "metadata": {},
   "outputs": [],
   "source": [
    "sentence=[\"grass green\",\"sky blue\",\"green grass forest\",\"blue sky clouds\"]"
   ]
  },
  {
   "cell_type": "code",
   "execution_count": 23,
   "metadata": {},
   "outputs": [],
   "source": [
    "vocab, coocc_matrix=create_cooccurrence_matrix(sentence)"
   ]
  },
  {
   "cell_type": "code",
   "execution_count": 24,
   "metadata": {},
   "outputs": [],
   "source": [
    "df_coocc_matrix=pd.DataFrame(\n",
    "    coocc_matrix.todense(),index=vocab.keys(),columns=vocab.keys()\n",
    ")"
   ]
  },
  {
   "cell_type": "code",
   "execution_count": 25,
   "metadata": {},
   "outputs": [],
   "source": [
    "df_coocc=df_coocc_matrix.sort_index()[sorted(vocab.keys())]"
   ]
  },
  {
   "cell_type": "code",
   "execution_count": 26,
   "metadata": {},
   "outputs": [
    {
     "name": "stdout",
     "output_type": "stream",
     "text": [
      "        blue  clouds  forest  grass  green  sky\n",
      "blue     2.0     1.0     0.0    0.0    0.0  2.0\n",
      "clouds   1.0     1.0     0.0    0.0    0.0  1.0\n",
      "forest   0.0     0.0     1.0    1.0    1.0  0.0\n",
      "grass    0.0     0.0     1.0    2.0    2.0  0.0\n",
      "green    0.0     0.0     1.0    2.0    2.0  0.0\n",
      "sky      2.0     1.0     0.0    0.0    0.0  2.0\n"
     ]
    }
   ],
   "source": [
    "print(df_coocc)"
   ]
  },
  {
   "cell_type": "code",
   "execution_count": null,
   "metadata": {},
   "outputs": [],
   "source": []
  }
 ],
 "metadata": {
  "kernelspec": {
   "display_name": "base",
   "language": "python",
   "name": "python3"
  },
  "language_info": {
   "codemirror_mode": {
    "name": "ipython",
    "version": 3
   },
   "file_extension": ".py",
   "mimetype": "text/x-python",
   "name": "python",
   "nbconvert_exporter": "python",
   "pygments_lexer": "ipython3",
   "version": "3.11.4"
  },
  "orig_nbformat": 4
 },
 "nbformat": 4,
 "nbformat_minor": 2
}
