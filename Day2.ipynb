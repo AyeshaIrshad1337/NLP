{
 "cells": [
  {
   "attachments": {},
   "cell_type": "markdown",
   "metadata": {},
   "source": [
    "# Data Extraction"
   ]
  },
  {
   "attachments": {},
   "cell_type": "markdown",
   "metadata": {},
   "source": [
    "## Reading from a PDF"
   ]
  },
  {
   "cell_type": "code",
   "execution_count": 16,
   "metadata": {},
   "outputs": [
    {
     "name": "stdout",
     "output_type": "stream",
     "text": [
      "Defaulting to user installation because normal site-packages is not writeable\n",
      "Requirement already satisfied: PyPDF2==2.11.1 in /home/ayesha_irshad/.local/lib/python3.10/site-packages (2.11.1)\n"
     ]
    }
   ],
   "source": [
    "#install library\n",
    "!pip install PyPDF2==2.11.1"
   ]
  },
  {
   "cell_type": "code",
   "execution_count": 17,
   "metadata": {},
   "outputs": [],
   "source": [
    "from PyPDF2 import PdfFileReader"
   ]
  },
  {
   "cell_type": "code",
   "execution_count": 18,
   "metadata": {},
   "outputs": [
    {
     "name": "stdout",
     "output_type": "stream",
     "text": [
      "Total Number of Pages: 2\n"
     ]
    }
   ],
   "source": [
    "with open(\"sample.pdf\",\"rb\") as pdf:\n",
    "    # creating object\n",
    "    pdf_reader=PdfFileReader(pdf)\n",
    "    # Fetching number of pages as PDF\n",
    "    num_pages=pdf_reader.numPages\n",
    "    print(\"Total Number of Pages: {}\".format(num_pages))"
   ]
  },
  {
   "cell_type": "code",
   "execution_count": 20,
   "metadata": {},
   "outputs": [
    {
     "ename": "ValueError",
     "evalue": "seek of closed file",
     "output_type": "error",
     "traceback": [
      "\u001b[0;31m---------------------------------------------------------------------------\u001b[0m",
      "\u001b[0;31mValueError\u001b[0m                                Traceback (most recent call last)",
      "Cell \u001b[0;32mIn[20], line 6\u001b[0m\n\u001b[1;32m      4\u001b[0m page\u001b[39m=\u001b[39mpdf_reader\u001b[39m.\u001b[39mgetPage(\u001b[39m0\u001b[39m)\n\u001b[1;32m      5\u001b[0m \u001b[39m# Extracting tezt from the page\u001b[39;00m\n\u001b[0;32m----> 6\u001b[0m text\u001b[39m=\u001b[39m page\u001b[39m.\u001b[39;49mextract_text()\n\u001b[1;32m      7\u001b[0m \u001b[39mprint\u001b[39m(\u001b[39m\"\u001b[39m\u001b[39mContents of the first page: \u001b[39m\u001b[39m\\n\u001b[39;00m\u001b[39m\"\u001b[39m)\n\u001b[1;32m      8\u001b[0m \u001b[39mprint\u001b[39m(text)\n",
      "File \u001b[0;32m~/.local/lib/python3.10/site-packages/PyPDF2/_page.py:1823\u001b[0m, in \u001b[0;36mPageObject.extract_text\u001b[0;34m(self, Tj_sep, TJ_sep, orientations, space_width, visitor_operand_before, visitor_operand_after, visitor_text, *args)\u001b[0m\n\u001b[1;32m   1820\u001b[0m \u001b[39mif\u001b[39;00m \u001b[39misinstance\u001b[39m(orientations, \u001b[39mint\u001b[39m):\n\u001b[1;32m   1821\u001b[0m     orientations \u001b[39m=\u001b[39m (orientations,)\n\u001b[0;32m-> 1823\u001b[0m \u001b[39mreturn\u001b[39;00m \u001b[39mself\u001b[39;49m\u001b[39m.\u001b[39;49m_extract_text(\n\u001b[1;32m   1824\u001b[0m     \u001b[39mself\u001b[39;49m,\n\u001b[1;32m   1825\u001b[0m     \u001b[39mself\u001b[39;49m\u001b[39m.\u001b[39;49mpdf,\n\u001b[1;32m   1826\u001b[0m     orientations,\n\u001b[1;32m   1827\u001b[0m     space_width,\n\u001b[1;32m   1828\u001b[0m     PG\u001b[39m.\u001b[39;49mCONTENTS,\n\u001b[1;32m   1829\u001b[0m     visitor_operand_before,\n\u001b[1;32m   1830\u001b[0m     visitor_operand_after,\n\u001b[1;32m   1831\u001b[0m     visitor_text,\n\u001b[1;32m   1832\u001b[0m )\n",
      "File \u001b[0;32m~/.local/lib/python3.10/site-packages/PyPDF2/_page.py:1323\u001b[0m, in \u001b[0;36mPageObject._extract_text\u001b[0;34m(self, obj, pdf, orientations, space_width, content_key, visitor_operand_before, visitor_operand_after, visitor_text)\u001b[0m\n\u001b[1;32m   1321\u001b[0m \u001b[39mif\u001b[39;00m \u001b[39m\"\u001b[39m\u001b[39m/Font\u001b[39m\u001b[39m\"\u001b[39m \u001b[39min\u001b[39;00m resources_dict:\n\u001b[1;32m   1322\u001b[0m     \u001b[39mfor\u001b[39;00m f \u001b[39min\u001b[39;00m cast(DictionaryObject, resources_dict[\u001b[39m\"\u001b[39m\u001b[39m/Font\u001b[39m\u001b[39m\"\u001b[39m]):\n\u001b[0;32m-> 1323\u001b[0m         cmaps[f] \u001b[39m=\u001b[39m build_char_map(f, space_width, obj)\n\u001b[1;32m   1324\u001b[0m cmap: Tuple[\n\u001b[1;32m   1325\u001b[0m     Union[\u001b[39mstr\u001b[39m, Dict[\u001b[39mint\u001b[39m, \u001b[39mstr\u001b[39m]], Dict[\u001b[39mstr\u001b[39m, \u001b[39mstr\u001b[39m], \u001b[39mstr\u001b[39m, Optional[DictionaryObject]\n\u001b[1;32m   1326\u001b[0m ] \u001b[39m=\u001b[39m (\n\u001b[0;32m   (...)\u001b[0m\n\u001b[1;32m   1330\u001b[0m     \u001b[39mNone\u001b[39;00m,\n\u001b[1;32m   1331\u001b[0m )  \u001b[39m# (encoding,CMAP,font resource name,dictionary-object of font)\u001b[39;00m\n\u001b[1;32m   1332\u001b[0m \u001b[39mtry\u001b[39;00m:\n",
      "File \u001b[0;32m~/.local/lib/python3.10/site-packages/PyPDF2/_cmap.py:23\u001b[0m, in \u001b[0;36mbuild_char_map\u001b[0;34m(font_name, space_width, obj)\u001b[0m\n\u001b[1;32m     13\u001b[0m \u001b[39mdef\u001b[39;00m \u001b[39mbuild_char_map\u001b[39m(\n\u001b[1;32m     14\u001b[0m     font_name: \u001b[39mstr\u001b[39m, space_width: \u001b[39mfloat\u001b[39m, obj: DictionaryObject\n\u001b[1;32m     15\u001b[0m ) \u001b[39m-\u001b[39m\u001b[39m>\u001b[39m Tuple[\n\u001b[1;32m     16\u001b[0m     \u001b[39mstr\u001b[39m, \u001b[39mfloat\u001b[39m, Union[\u001b[39mstr\u001b[39m, Dict[\u001b[39mint\u001b[39m, \u001b[39mstr\u001b[39m]], Dict, DictionaryObject\n\u001b[1;32m     17\u001b[0m ]:  \u001b[39m# font_type,space_width /2, encoding, cmap\u001b[39;00m\n\u001b[1;32m     18\u001b[0m \u001b[39m    \u001b[39m\u001b[39m\"\"\"Determine information about a font.\u001b[39;00m\n\u001b[1;32m     19\u001b[0m \n\u001b[1;32m     20\u001b[0m \u001b[39m    This function returns a tuple consisting of:\u001b[39;00m\n\u001b[1;32m     21\u001b[0m \u001b[39m    font sub-type, space_width/2, encoding, map character-map, font-dictionary.\u001b[39;00m\n\u001b[1;32m     22\u001b[0m \u001b[39m    The font-dictionary itself is suitable for the curious.\"\"\"\u001b[39;00m\n\u001b[0;32m---> 23\u001b[0m     ft: DictionaryObject \u001b[39m=\u001b[39m obj[\u001b[39m\"\u001b[39;49m\u001b[39m/Resources\u001b[39;49m\u001b[39m\"\u001b[39;49m][\u001b[39m\"\u001b[39;49m\u001b[39m/Font\u001b[39;49m\u001b[39m\"\u001b[39;49m][font_name]  \u001b[39m# type: ignore\u001b[39;00m\n\u001b[1;32m     24\u001b[0m     font_type: \u001b[39mstr\u001b[39m \u001b[39m=\u001b[39m cast(\u001b[39mstr\u001b[39m, ft[\u001b[39m\"\u001b[39m\u001b[39m/Subtype\u001b[39m\u001b[39m\"\u001b[39m])\n\u001b[1;32m     26\u001b[0m     space_code \u001b[39m=\u001b[39m \u001b[39m32\u001b[39m\n",
      "File \u001b[0;32m~/.local/lib/python3.10/site-packages/PyPDF2/generic/_data_structures.py:149\u001b[0m, in \u001b[0;36mDictionaryObject.__getitem__\u001b[0;34m(self, key)\u001b[0m\n\u001b[1;32m    148\u001b[0m \u001b[39mdef\u001b[39;00m \u001b[39m__getitem__\u001b[39m(\u001b[39mself\u001b[39m, key: Any) \u001b[39m-\u001b[39m\u001b[39m>\u001b[39m PdfObject:\n\u001b[0;32m--> 149\u001b[0m     \u001b[39mreturn\u001b[39;00m \u001b[39mdict\u001b[39;49m\u001b[39m.\u001b[39;49m\u001b[39m__getitem__\u001b[39;49m(\u001b[39mself\u001b[39;49m, key)\u001b[39m.\u001b[39;49mget_object()\n",
      "File \u001b[0;32m~/.local/lib/python3.10/site-packages/PyPDF2/generic/_base.py:164\u001b[0m, in \u001b[0;36mIndirectObject.get_object\u001b[0;34m(self)\u001b[0m\n\u001b[1;32m    163\u001b[0m \u001b[39mdef\u001b[39;00m \u001b[39mget_object\u001b[39m(\u001b[39mself\u001b[39m) \u001b[39m-\u001b[39m\u001b[39m>\u001b[39m Optional[PdfObject]:\n\u001b[0;32m--> 164\u001b[0m     obj \u001b[39m=\u001b[39m \u001b[39mself\u001b[39;49m\u001b[39m.\u001b[39;49mpdf\u001b[39m.\u001b[39;49mget_object(\u001b[39mself\u001b[39;49m)\n\u001b[1;32m    165\u001b[0m     \u001b[39mif\u001b[39;00m obj \u001b[39mis\u001b[39;00m \u001b[39mNone\u001b[39;00m:\n\u001b[1;32m    166\u001b[0m         \u001b[39mreturn\u001b[39;00m \u001b[39mNone\u001b[39;00m\n",
      "File \u001b[0;32m~/.local/lib/python3.10/site-packages/PyPDF2/_reader.py:1177\u001b[0m, in \u001b[0;36mPdfReader.get_object\u001b[0;34m(self, indirect_reference)\u001b[0m\n\u001b[1;32m   1175\u001b[0m     \u001b[39mreturn\u001b[39;00m NullObject()\n\u001b[1;32m   1176\u001b[0m start \u001b[39m=\u001b[39m \u001b[39mself\u001b[39m\u001b[39m.\u001b[39mxref[indirect_reference\u001b[39m.\u001b[39mgeneration][indirect_reference\u001b[39m.\u001b[39midnum]\n\u001b[0;32m-> 1177\u001b[0m \u001b[39mself\u001b[39;49m\u001b[39m.\u001b[39;49mstream\u001b[39m.\u001b[39;49mseek(start, \u001b[39m0\u001b[39;49m)\n\u001b[1;32m   1178\u001b[0m \u001b[39mtry\u001b[39;00m:\n\u001b[1;32m   1179\u001b[0m     idnum, generation \u001b[39m=\u001b[39m \u001b[39mself\u001b[39m\u001b[39m.\u001b[39mread_object_header(\u001b[39mself\u001b[39m\u001b[39m.\u001b[39mstream)\n",
      "\u001b[0;31mValueError\u001b[0m: seek of closed file"
     ]
    }
   ],
   "source": [
    "if num_pages>0:\n",
    "    #Creating a page object for the 1st page\n",
    "    #Replace 0 with 1 to access the 2nd Page\n",
    "    page=pdf_reader.getPage(0)\n",
    "    # Extracting tezt from the page\n",
    "    text= page.extract_text()\n",
    "    print(\"Contents of the first page: \\n\")\n",
    "    print(text)"
   ]
  },
  {
   "cell_type": "code",
   "execution_count": 21,
   "metadata": {},
   "outputs": [
    {
     "name": "stdout",
     "output_type": "stream",
     "text": [
      "Contents of the first page: \n",
      "\n",
      " A Simple PDF File \n",
      " This is a small demonstration .pdf file - \n",
      " just for use in the Virtual Mechanics tutorials. More text. And more \n",
      " text. And more text. And more text. And more text. \n",
      " And more text. And more text. And more text. And more text. And more \n",
      " text. And more text. Boring, zzzzz. And more text. And more text. And \n",
      " more text. And more text. And more text. And more text. And more text. \n",
      " And more text. And more text. \n",
      " And more text. And more text. And more text. And more text. And more \n",
      " text. And more text. And more text. Even more. Continued on page 2 ...\n"
     ]
    }
   ],
   "source": [
    "import PyPDF2\n",
    "\n",
    "# Open the PDF file in read-binary mode\n",
    "with open('sample.pdf', 'rb') as file:\n",
    "    # Create a PdfFileReader object\n",
    "    pdf_reader = PyPDF2.PdfFileReader(file)\n",
    "\n",
    "    # Check if there are any pages in the PDF\n",
    "    if pdf_reader.numPages > 0:\n",
    "        # Creating a page object for the first page\n",
    "        # Replace 0 with 1 to access the second page, and so on\n",
    "        page = pdf_reader.getPage(0)\n",
    "\n",
    "        # Extract text from the page\n",
    "        text = page.extract_text()\n",
    "\n",
    "        print(\"Contents of the first page: \\n\")\n",
    "        print(text)\n"
   ]
  },
  {
   "cell_type": "code",
   "execution_count": 23,
   "metadata": {},
   "outputs": [
    {
     "name": "stdout",
     "output_type": "stream",
     "text": [
      "Defaulting to user installation because normal site-packages is not writeable\n",
      "Collecting pytesseract==0.3.9\n",
      "  Downloading pytesseract-0.3.9-py2.py3-none-any.whl (14 kB)\n",
      "Requirement already satisfied: packaging>=21.3 in /home/ayesha_irshad/.local/lib/python3.10/site-packages (from pytesseract==0.3.9) (23.1)\n",
      "Requirement already satisfied: Pillow>=8.0.0 in /usr/lib/python3/dist-packages (from pytesseract==0.3.9) (9.0.1)\n",
      "Installing collected packages: pytesseract\n",
      "Successfully installed pytesseract-0.3.9\n",
      "Defaulting to user installation because normal site-packages is not writeable\n",
      "Collecting opencv-python==4.6.0.66\n",
      "  Downloading opencv_python-4.6.0.66-cp36-abi3-manylinux_2_17_x86_64.manylinux2014_x86_64.whl (60.9 MB)\n",
      "\u001b[2K     \u001b[38;2;114;156;31m━━━━━━━━━━━━━━━━━━━━━━━━━━━━━━━━━━━━━━━━\u001b[0m \u001b[32m60.9/60.9 MB\u001b[0m \u001b[31m1.1 MB/s\u001b[0m eta \u001b[36m0:00:00\u001b[0mm eta \u001b[36m0:00:01\u001b[0m[36m0:00:02\u001b[0m\n",
      "\u001b[?25hRequirement already satisfied: numpy>=1.14.5 in /home/ayesha_irshad/.local/lib/python3.10/site-packages (from opencv-python==4.6.0.66) (1.25.2)\n",
      "Installing collected packages: opencv-python\n",
      "Successfully installed opencv-python-4.6.0.66\n"
     ]
    }
   ],
   "source": [
    "!pip install pytesseract==0.3.9\n",
    "!pip install opencv-python==4.6.0.66"
   ]
  },
  {
   "cell_type": "code",
   "execution_count": 24,
   "metadata": {},
   "outputs": [],
   "source": [
    "import cv2\n",
    "from pytesseract import image_to_string"
   ]
  },
  {
   "cell_type": "code",
   "execution_count": 25,
   "metadata": {},
   "outputs": [],
   "source": [
    "filename=\"sample.png\"\n",
    "img= cv2.imread(filename) "
   ]
  },
  {
   "cell_type": "code",
   "execution_count": 28,
   "metadata": {},
   "outputs": [
    {
     "name": "stdout",
     "output_type": "stream",
     "text": [
      "This is a small demonstration .paf file -\n",
      "\n",
      "just for use in the Virtual Mechanics tutorials. More text. And more\n",
      "text. And more text. And more text. And more text.\n",
      "\n",
      "‘And more text. And more text. And more text. And more text. And more\n",
      "text. And more text. Boring, zzzzz. And more text. And more text. And\n",
      "more text. And more text. And more text. And more text. And more text.\n",
      "And more text. And more text.\n",
      "\n",
      "‘And more text. And more text. And more text. And more text. And more\n",
      "text. And more text. And more text. Even more. Continued on page 2\n",
      "\f\n"
     ]
    }
   ],
   "source": [
    "text=image_to_string(img,lang=\"eng\")\n",
    "print(text)"
   ]
  },
  {
   "cell_type": "code",
   "execution_count": null,
   "metadata": {},
   "outputs": [],
   "source": []
  }
 ],
 "metadata": {
  "kernelspec": {
   "display_name": "Python 3",
   "language": "python",
   "name": "python3"
  },
  "language_info": {
   "codemirror_mode": {
    "name": "ipython",
    "version": 3
   },
   "file_extension": ".py",
   "mimetype": "text/x-python",
   "name": "python",
   "nbconvert_exporter": "python",
   "pygments_lexer": "ipython3",
   "version": "3.10.12"
  },
  "orig_nbformat": 4
 },
 "nbformat": 4,
 "nbformat_minor": 2
}
