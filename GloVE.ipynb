{
 "cells": [
  {
   "cell_type": "code",
   "execution_count": 5,
   "metadata": {},
   "outputs": [
    {
     "name": "stdout",
     "output_type": "stream",
     "text": [
      "Requirement already satisfied: requests in c:\\users\\lenovo\\anaconda3\\lib\\site-packages (2.27.1)\n",
      "Requirement already satisfied: urllib3<1.27,>=1.21.1 in c:\\users\\lenovo\\anaconda3\\lib\\site-packages (from requests) (1.26.16)\n",
      "Requirement already satisfied: certifi>=2017.4.17 in c:\\users\\lenovo\\anaconda3\\lib\\site-packages (from requests) (2023.7.22)\n",
      "Requirement already satisfied: charset-normalizer~=2.0.0 in c:\\users\\lenovo\\anaconda3\\lib\\site-packages (from requests) (2.0.4)\n",
      "Requirement already satisfied: idna<4,>=2.5 in c:\\users\\lenovo\\anaconda3\\lib\\site-packages (from requests) (3.4)\n"
     ]
    }
   ],
   "source": [
    "!pip install requests"
   ]
  },
  {
   "cell_type": "code",
   "execution_count": 7,
   "metadata": {},
   "outputs": [],
   "source": [
    "\n",
    "import requests\n",
    "import zipfile\n",
    "import os\n",
    "\n",
    "url = 'https://nlp.stanford.edu/data/glove.6B.zip'\n",
    "file_name = 'glove.6B.zip'\n",
    "\n",
    "# Download the file\n",
    "response = requests.get(url)\n",
    "with open(file_name, 'wb') as f:\n",
    "    f.write(response.content)\n",
    "\n",
    "# Unzip the file\n",
    "with zipfile.ZipFile(file_name, 'r') as zip_ref:\n",
    "    zip_ref.extractall()\n",
    "\n",
    "# Remove the zip file\n",
    "os.remove(file_name)\n"
   ]
  },
  {
   "cell_type": "code",
   "execution_count": 13,
   "metadata": {},
   "outputs": [
    {
     "name": "stdout",
     "output_type": "stream",
     "text": [
      "[-0.3396    -0.034968   0.50918   -0.21131    0.12505   -0.1273\n",
      " -0.49713   -0.42766   -1.1465    -1.03      -0.68081   -0.8441\n",
      " -0.53539   -0.34949    0.35617    0.084823  -0.30111   -0.015468\n",
      "  0.20779   -0.21195    0.06292    1.538     -0.053514   0.82091\n",
      "  0.40287   -0.6614     0.36424    0.31173   -0.39355    0.30448\n",
      "  0.29614   -0.15658   -0.4304     0.10324    0.49861   -0.74793\n",
      " -1.2427     0.57625    0.40451   -0.38491   -0.43445    0.49646\n",
      "  0.16707    0.44802    0.11118    0.42416    0.3119     0.9609\n",
      " -0.74435    0.83122   -0.20885    0.76589    0.5018    -0.23054\n",
      "  0.069079   0.79359   -0.70704   -0.040888   0.35677    0.63979\n",
      " -0.45005    0.37254    0.020079  -0.25263   -0.46693    0.34979\n",
      " -0.20673    0.47023    0.26935   -1.0315    -0.33268   -0.72155\n",
      " -0.43251    0.38386    0.41144    1.0171     0.85954    0.12452\n",
      "  0.89378   -0.52045    0.25741    0.37725   -1.0493    -0.21989\n",
      "  0.0077625 -0.90762    0.078311  -0.50351    0.25786   -0.72913\n",
      "  0.25364    0.40323   -0.49612   -0.32482   -0.69986    0.20782\n",
      " -0.70231   -0.64524   -0.083101  -0.37792    0.02498    0.41812\n",
      "  0.17609    1.09      -0.13845   -0.794     -0.32692    0.79608\n",
      "  0.069371   0.44866   -1.1441     0.77456    0.5509    -0.066422\n",
      "  0.29285    0.22489    0.30026   -0.50712   -0.65223    1.0756\n",
      " -0.22994   -0.35388    0.13464   -0.40551    0.49609   -1.1065\n",
      "  0.16036   -0.18462    0.64449    0.37588   -0.0093257  0.17347\n",
      " -0.174      0.052165   0.64342   -0.065668  -0.42064    0.37874\n",
      "  0.44188   -0.19628    0.73919   -0.23613    0.12714    0.3434\n",
      "  1.6095     0.99767    0.52036   -0.036724   1.0639    -0.41385\n",
      "  0.83899    0.37225    0.43358   -0.228      1.2421    -0.11866\n",
      "  0.2723     0.54134   -0.73974   -0.53244    0.41792    0.21059\n",
      " -0.78672    0.1657     0.74051    0.96185    0.22702    0.012389\n",
      "  0.12724    0.16652   -0.51176    0.2001     0.81354   -0.53955\n",
      "  0.054946  -0.70224    0.37345   -0.93038   -0.15572   -0.44407\n",
      "  1.0802    -0.25002   -0.76627    0.41997   -0.20913    0.77068\n",
      " -0.22157    0.1719     0.47423    1.1007     0.61997    0.8611\n",
      " -0.12541   -0.024734  -0.49452    0.55635   -0.17882   -0.16741\n",
      "  0.33102   -0.14728  ]\n"
     ]
    }
   ],
   "source": [
    "import numpy as np\n",
    "emmbed_dict={}\n",
    "with open('glove.6B.200d.txt','r') as f:\n",
    "    for line in f:\n",
    "        values=line.split()\n",
    "        word=values[0]\n",
    "        vector=np.asarray(values[1:],'float32')\n",
    "        emmbed_dict[word]=vector\n",
    "print(emmbed_dict['river'])"
   ]
  },
  {
   "cell_type": "code",
   "execution_count": null,
   "metadata": {},
   "outputs": [],
   "source": []
  }
 ],
 "metadata": {
  "kernelspec": {
   "display_name": "base",
   "language": "python",
   "name": "python3"
  },
  "language_info": {
   "codemirror_mode": {
    "name": "ipython",
    "version": 3
   },
   "file_extension": ".py",
   "mimetype": "text/x-python",
   "name": "python",
   "nbconvert_exporter": "python",
   "pygments_lexer": "ipython3",
   "version": "3.11.4"
  },
  "orig_nbformat": 4
 },
 "nbformat": 4,
 "nbformat_minor": 2
}
