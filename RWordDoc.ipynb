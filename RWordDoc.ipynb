{
 "cells": [
  {
   "cell_type": "code",
   "execution_count": 1,
   "metadata": {},
   "outputs": [
    {
     "name": "stdout",
     "output_type": "stream",
     "text": [
      "Defaulting to user installation because normal site-packages is not writeable\n",
      "Collecting python-docx==0.8.11\n",
      "  Downloading python-docx-0.8.11.tar.gz (5.6 MB)\n",
      "\u001b[2K     \u001b[38;2;114;156;31m━━━━━━━━━━━━━━━━━━━━━━━━━━━━━━━━━━━━━━━━\u001b[0m \u001b[32m5.6/5.6 MB\u001b[0m \u001b[31m135.6 kB/s\u001b[0m eta \u001b[36m0:00:00\u001b[0mm eta \u001b[36m0:00:01\u001b[0m[36m0:00:02\u001b[0m\n",
      "\u001b[?25h  Preparing metadata (setup.py) ... \u001b[?25ldone\n",
      "\u001b[?25hCollecting lxml>=2.3.2\n",
      "  Downloading lxml-4.9.3-cp310-cp310-manylinux_2_28_x86_64.whl (7.9 MB)\n",
      "\u001b[2K     \u001b[38;2;114;156;31m━━━━━━━━━━━━━━━━━━━━━━━━━━━━━━━━━━━━━━━━\u001b[0m \u001b[32m7.9/7.9 MB\u001b[0m \u001b[31m52.8 kB/s\u001b[0m eta \u001b[36m0:00:00\u001b[0mm eta \u001b[36m0:00:01\u001b[0m[36m0:00:05\u001b[0mm\n",
      "\u001b[?25hBuilding wheels for collected packages: python-docx\n",
      "  Building wheel for python-docx (setup.py) ... \u001b[?25ldone\n",
      "\u001b[?25h  Created wheel for python-docx: filename=python_docx-0.8.11-py3-none-any.whl size=184507 sha256=2b1025b880586f5ca1bcc483f02252dadfc0a6b117743567b27b370cc8953f9a\n",
      "  Stored in directory: /home/ayesha_irshad/.cache/pip/wheels/80/27/06/837436d4c3bd989b957a91679966f207bfd71d358d63a8194d\n",
      "Successfully built python-docx\n",
      "Installing collected packages: lxml, python-docx\n",
      "Successfully installed lxml-4.9.3 python-docx-0.8.11\n"
     ]
    }
   ],
   "source": [
    "! pip install python-docx==0.8.11"
   ]
  },
  {
   "cell_type": "code",
   "execution_count": 2,
   "metadata": {},
   "outputs": [],
   "source": [
    "from docx import Document\n",
    "doc = open(\"sample.docx\",\"rb\")\n",
    "document=Document(doc)\n"
   ]
  },
  {
   "cell_type": "code",
   "execution_count": 3,
   "metadata": {},
   "outputs": [],
   "source": [
    "# Placeholder for text\n",
    "doc_text=\"\"\n",
    "for para in document.paragraphs:\n",
    "    doc_text+=para.text"
   ]
  },
  {
   "cell_type": "code",
   "execution_count": 4,
   "metadata": {},
   "outputs": [
    {
     "name": "stdout",
     "output_type": "stream",
     "text": [
      "GET READY TO LEARN \n",
      "EVERYTHING YOU NEED TO KNOW ABOUT DIGITAL MARKETINGDearest Student, Welcome to the course! This is one of the most complete courses you will ever need to learn all the essentials related Digital Marketing & Social Media. It will help you to become the Digital Marketing Junior.We have designed this course to make sure each and everything related to Digital Marketing is covered and after doing this course you will understand everything related to Digital Marketing.Quizzes and Assignments make it much more interactive. They are the best way to maximize your learning. They make learning much more enjoyable & FUN!You will be able to learn many aspects of Digital Marketing from Social Media to SEO & Advertising.The wish to benefit others together with open mind will help you to always succeed and find the most efficient ways!EXPLANATION OF CURRICULUMNow we will give you a basic overview of how this course is going to help you to learn Digital Marketing. If you give your honest efforts and time in learning, then you can find better job and you can start providing professional services. The most important is that you can make your life better and you can benefit people around you and across the globe. Best of Digital Marketing Essentials: Ultimate CourseDigital Marketing EssentialsCopywritingAIDA (Psychology of Persuasion)Copywriting for Social MediaContent MarketingProfessional Content Marketing TemplatesSEOLocal SEOGoogle SEOTechnical SEO210 SEO Ranking FactorsLink BuildingFacebook MarketingInstagram MarketingChatbot MarketingYouTube MarketingTikTok MarketingEmail MarketingPinterest MarketingTwitter MarketingPodcast MarketingGoogle AdsGoogle AnalyticsBrand BuildingProduct MarketingGrowth HackingReddit MarketingCareers & Freelancing (Including Templates, PDFs, Cheat Sheets & Perfect Invoice)This section will give you a complete overview of all aspects of Digital Marketing.This course has everything you need to become the DIGITAL MARKETING JUNIOR.So, please, start from today. Give it your honest effort and time and reach GREAT SUCCESS!WISH YOU ALL THE BEST THANK YOU! :-) TOM & the whole TEAM\n"
     ]
    }
   ],
   "source": [
    "#Print the final output\n",
    "print(doc_text)"
   ]
  },
  {
   "cell_type": "code",
   "execution_count": 5,
   "metadata": {},
   "outputs": [],
   "source": [
    "doc.close()"
   ]
  },
  {
   "cell_type": "code",
   "execution_count": null,
   "metadata": {},
   "outputs": [],
   "source": []
  }
 ],
 "metadata": {
  "kernelspec": {
   "display_name": "Python 3",
   "language": "python",
   "name": "python3"
  },
  "language_info": {
   "codemirror_mode": {
    "name": "ipython",
    "version": 3
   },
   "file_extension": ".py",
   "mimetype": "text/x-python",
   "name": "python",
   "nbconvert_exporter": "python",
   "pygments_lexer": "ipython3",
   "version": "3.10.12"
  },
  "orig_nbformat": 4
 },
 "nbformat": 4,
 "nbformat_minor": 2
}
