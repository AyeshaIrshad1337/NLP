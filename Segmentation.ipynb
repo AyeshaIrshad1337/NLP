{
 "cells": [
  {
   "cell_type": "code",
   "execution_count": 4,
   "metadata": {},
   "outputs": [
    {
     "name": "stdout",
     "output_type": "stream",
     "text": [
      "Defaulting to user installation because normal site-packages is not writeable\n",
      "Requirement already satisfied: spaCy in /home/ayesha_irshad/.local/lib/python3.10/site-packages (3.6.0)\n",
      "Requirement already satisfied: packaging>=20.0 in /home/ayesha_irshad/.local/lib/python3.10/site-packages (from spaCy) (23.1)\n",
      "Requirement already satisfied: spacy-loggers<2.0.0,>=1.0.0 in /home/ayesha_irshad/.local/lib/python3.10/site-packages (from spaCy) (1.0.4)\n",
      "Requirement already satisfied: jinja2 in /home/ayesha_irshad/.local/lib/python3.10/site-packages (from spaCy) (3.1.2)\n",
      "Requirement already satisfied: srsly<3.0.0,>=2.4.3 in /home/ayesha_irshad/.local/lib/python3.10/site-packages (from spaCy) (2.4.7)\n",
      "Requirement already satisfied: langcodes<4.0.0,>=3.2.0 in /home/ayesha_irshad/.local/lib/python3.10/site-packages (from spaCy) (3.3.0)\n",
      "Requirement already satisfied: spacy-legacy<3.1.0,>=3.0.11 in /home/ayesha_irshad/.local/lib/python3.10/site-packages (from spaCy) (3.0.12)\n",
      "Requirement already satisfied: pydantic!=1.8,!=1.8.1,<1.11.0,>=1.7.4 in /home/ayesha_irshad/.local/lib/python3.10/site-packages (from spaCy) (1.10.12)\n",
      "Requirement already satisfied: cymem<2.1.0,>=2.0.2 in /home/ayesha_irshad/.local/lib/python3.10/site-packages (from spaCy) (2.0.7)\n",
      "Requirement already satisfied: numpy>=1.15.0 in /home/ayesha_irshad/.local/lib/python3.10/site-packages (from spaCy) (1.24.3)\n",
      "Requirement already satisfied: preshed<3.1.0,>=3.0.2 in /home/ayesha_irshad/.local/lib/python3.10/site-packages (from spaCy) (3.0.8)\n",
      "Requirement already satisfied: catalogue<2.1.0,>=2.0.6 in /home/ayesha_irshad/.local/lib/python3.10/site-packages (from spaCy) (2.0.9)\n",
      "Requirement already satisfied: setuptools in /usr/lib/python3/dist-packages (from spaCy) (59.6.0)\n",
      "Requirement already satisfied: wasabi<1.2.0,>=0.9.1 in /home/ayesha_irshad/.local/lib/python3.10/site-packages (from spaCy) (1.1.2)\n",
      "Requirement already satisfied: murmurhash<1.1.0,>=0.28.0 in /home/ayesha_irshad/.local/lib/python3.10/site-packages (from spaCy) (1.0.9)\n",
      "Requirement already satisfied: pathy>=0.10.0 in /home/ayesha_irshad/.local/lib/python3.10/site-packages (from spaCy) (0.10.2)\n",
      "Requirement already satisfied: typer<0.10.0,>=0.3.0 in /home/ayesha_irshad/.local/lib/python3.10/site-packages (from spaCy) (0.9.0)\n",
      "Requirement already satisfied: requests<3.0.0,>=2.13.0 in /usr/lib/python3/dist-packages (from spaCy) (2.25.1)\n",
      "Requirement already satisfied: thinc<8.2.0,>=8.1.8 in /home/ayesha_irshad/.local/lib/python3.10/site-packages (from spaCy) (8.1.10)\n",
      "Requirement already satisfied: tqdm<5.0.0,>=4.38.0 in /home/ayesha_irshad/.local/lib/python3.10/site-packages (from spaCy) (4.65.0)\n",
      "Requirement already satisfied: smart-open<7.0.0,>=5.2.1 in /home/ayesha_irshad/.local/lib/python3.10/site-packages (from spaCy) (6.3.0)\n",
      "Requirement already satisfied: typing-extensions>=4.2.0 in /home/ayesha_irshad/.local/lib/python3.10/site-packages (from pydantic!=1.8,!=1.8.1,<1.11.0,>=1.7.4->spaCy) (4.6.0)\n",
      "Requirement already satisfied: blis<0.8.0,>=0.7.8 in /home/ayesha_irshad/.local/lib/python3.10/site-packages (from thinc<8.2.0,>=8.1.8->spaCy) (0.7.10)\n",
      "Requirement already satisfied: confection<1.0.0,>=0.0.1 in /home/ayesha_irshad/.local/lib/python3.10/site-packages (from thinc<8.2.0,>=8.1.8->spaCy) (0.1.0)\n",
      "Requirement already satisfied: click<9.0.0,>=7.1.1 in /home/ayesha_irshad/.local/lib/python3.10/site-packages (from typer<0.10.0,>=0.3.0->spaCy) (8.1.6)\n",
      "Requirement already satisfied: MarkupSafe>=2.0 in /home/ayesha_irshad/.local/lib/python3.10/site-packages (from jinja2->spaCy) (2.1.3)\n"
     ]
    }
   ],
   "source": [
    "!pip install spaCy"
   ]
  },
  {
   "cell_type": "code",
   "execution_count": 7,
   "metadata": {},
   "outputs": [],
   "source": [
    "import spacy as sp"
   ]
  },
  {
   "cell_type": "code",
   "execution_count": 10,
   "metadata": {},
   "outputs": [],
   "source": [
    "nlp = sp.load(\"en_core_web_sm\")\n",
    "doc = nlp(u\"Hi !. I Like NLP. Do you ??\")"
   ]
  },
  {
   "cell_type": "code",
   "execution_count": 11,
   "metadata": {},
   "outputs": [
    {
     "name": "stdout",
     "output_type": "stream",
     "text": [
      "Hi !.\n",
      "I Like NLP.\n",
      "Do you ??\n"
     ]
    }
   ],
   "source": [
    "for sent in doc.sents:\n",
    "    print(sent)"
   ]
  },
  {
   "cell_type": "markdown",
   "metadata": {},
   "source": [
    "Now lets try segmentation by NLTK"
   ]
  },
  {
   "cell_type": "code",
   "execution_count": 18,
   "metadata": {},
   "outputs": [
    {
     "name": "stdout",
     "output_type": "stream",
     "text": [
      "Defaulting to user installation because normal site-packages is not writeable\n",
      "Requirement already satisfied: nltk in /home/ayesha_irshad/.local/lib/python3.10/site-packages (3.8.1)\n",
      "Requirement already satisfied: click in /home/ayesha_irshad/.local/lib/python3.10/site-packages (from nltk) (8.1.6)\n",
      "Requirement already satisfied: joblib in /home/ayesha_irshad/.local/lib/python3.10/site-packages (from nltk) (1.2.0)\n",
      "Requirement already satisfied: tqdm in /home/ayesha_irshad/.local/lib/python3.10/site-packages (from nltk) (4.65.0)\n",
      "Requirement already satisfied: regex>=2021.8.3 in /home/ayesha_irshad/.local/lib/python3.10/site-packages (from nltk) (2023.6.3)\n"
     ]
    }
   ],
   "source": [
    "! pip install nltk"
   ]
  },
  {
   "cell_type": "code",
   "execution_count": 21,
   "metadata": {},
   "outputs": [],
   "source": [
    "from nltk.tokenize import sent_tokenize"
   ]
  },
  {
   "cell_type": "code",
   "execution_count": 24,
   "metadata": {},
   "outputs": [
    {
     "name": "stderr",
     "output_type": "stream",
     "text": [
      "[nltk_data] Downloading package punkt to\n",
      "[nltk_data]     /home/ayesha_irshad/nltk_data...\n",
      "[nltk_data]   Package punkt is already up-to-date!\n"
     ]
    },
    {
     "data": {
      "text/plain": [
       "True"
      ]
     },
     "execution_count": 24,
     "metadata": {},
     "output_type": "execute_result"
    }
   ],
   "source": [
    "import nltk\n",
    "nltk.download('punkt')\n"
   ]
  },
  {
   "cell_type": "code",
   "execution_count": 25,
   "metadata": {},
   "outputs": [
    {
     "name": "stdout",
     "output_type": "stream",
     "text": [
      "['I Like it.', 'Did you like it?']\n"
     ]
    }
   ],
   "source": [
    "sentence = sent_tokenize(\"I Like it. Did you like it?\")\n",
    "print(sentence)"
   ]
  },
  {
   "cell_type": "code",
   "execution_count": null,
   "metadata": {},
   "outputs": [],
   "source": []
  }
 ],
 "metadata": {
  "kernelspec": {
   "display_name": "Python 3",
   "language": "python",
   "name": "python3"
  },
  "language_info": {
   "codemirror_mode": {
    "name": "ipython",
    "version": 3
   },
   "file_extension": ".py",
   "mimetype": "text/x-python",
   "name": "python",
   "nbconvert_exporter": "python",
   "pygments_lexer": "ipython3",
   "version": "3.10.12"
  },
  "orig_nbformat": 4
 },
 "nbformat": 4,
 "nbformat_minor": 2
}
