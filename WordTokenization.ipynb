{
 "cells": [
  {
   "cell_type": "code",
   "execution_count": 1,
   "metadata": {},
   "outputs": [
    {
     "name": "stdout",
     "output_type": "stream",
     "text": [
      "Defaulting to user installation because normal site-packages is not writeable\n",
      "Collecting textblob==0.17.1\n",
      "  Downloading textblob-0.17.1-py2.py3-none-any.whl (636 kB)\n",
      "\u001b[2K     \u001b[38;2;114;156;31m━━━━━━━━━━━━━━━━━━━━━━━━━━━━━━━━━━━━━\u001b[0m \u001b[32m636.8/636.8 KB\u001b[0m \u001b[31m238.7 kB/s\u001b[0m eta \u001b[36m0:00:00\u001b[0mm eta \u001b[36m0:00:01\u001b[0m[36m0:00:01\u001b[0m\n",
      "\u001b[?25hRequirement already satisfied: nltk>=3.1 in /home/ayesha_irshad/.local/lib/python3.10/site-packages (from textblob==0.17.1) (3.8.1)\n",
      "Requirement already satisfied: click in /home/ayesha_irshad/.local/lib/python3.10/site-packages (from nltk>=3.1->textblob==0.17.1) (8.1.6)\n",
      "Requirement already satisfied: joblib in /home/ayesha_irshad/.local/lib/python3.10/site-packages (from nltk>=3.1->textblob==0.17.1) (1.2.0)\n",
      "Requirement already satisfied: regex>=2021.8.3 in /home/ayesha_irshad/.local/lib/python3.10/site-packages (from nltk>=3.1->textblob==0.17.1) (2023.6.3)\n",
      "Requirement already satisfied: tqdm in /home/ayesha_irshad/.local/lib/python3.10/site-packages (from nltk>=3.1->textblob==0.17.1) (4.65.0)\n",
      "Installing collected packages: textblob\n",
      "Successfully installed textblob-0.17.1\n"
     ]
    }
   ],
   "source": [
    "!pip install textblob==0.17.1"
   ]
  },
  {
   "cell_type": "code",
   "execution_count": 4,
   "metadata": {},
   "outputs": [],
   "source": [
    "from textblob import TextBlob"
   ]
  },
  {
   "cell_type": "code",
   "execution_count": 5,
   "metadata": {},
   "outputs": [],
   "source": [
    "text =\"Hi ! I am Ayesha. I like NLP. DO you ??, Follow me on Twitter and here is My github username is AyeshaIrshad1337.\""
   ]
  },
  {
   "cell_type": "code",
   "execution_count": null,
   "metadata": {},
   "outputs": [],
   "source": []
  },
  {
   "cell_type": "code",
   "execution_count": null,
   "metadata": {},
   "outputs": [],
   "source": []
  }
 ],
 "metadata": {
  "kernelspec": {
   "display_name": "Python 3",
   "language": "python",
   "name": "python3"
  },
  "language_info": {
   "codemirror_mode": {
    "name": "ipython",
    "version": 3
   },
   "file_extension": ".py",
   "mimetype": "text/x-python",
   "name": "python",
   "nbconvert_exporter": "python",
   "pygments_lexer": "ipython3",
   "version": "3.10.12"
  },
  "orig_nbformat": 4
 },
 "nbformat": 4,
 "nbformat_minor": 2
}
