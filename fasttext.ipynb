{
 "cells": [
  {
   "cell_type": "code",
   "execution_count": 2,
   "metadata": {},
   "outputs": [],
   "source": [
    "from gensim.models import FastText"
   ]
  },
  {
   "cell_type": "code",
   "execution_count": 8,
   "metadata": {},
   "outputs": [
    {
     "data": {
      "text/plain": [
       "array([-0.01044142, -0.00166894,  0.00851578, -0.0054542 , -0.0156434 ,\n",
       "        0.01678014,  0.00298669,  0.00163384, -0.01518852,  0.00655893,\n",
       "        0.01039334, -0.00142803, -0.01665683,  0.00949305,  0.00262311,\n",
       "       -0.00542011,  0.00635137, -0.0010479 , -0.0201377 ,  0.00101929],\n",
       "      dtype=float32)"
      ]
     },
     "execution_count": 8,
     "metadata": {},
     "output_type": "execute_result"
    }
   ],
   "source": [
    "fast = FastText(\n",
    "    tokens_doc,\n",
    "    vector_size=20,\n",
    "    window=1,\n",
    "    min_count=1,\n",
    "    workers=5,\n",
    "    min_n=1,\n",
    "    max_n=2\n",
    ")\n",
    "fast.wv['nlp']\n"
   ]
  },
  {
   "cell_type": "code",
   "execution_count": null,
   "metadata": {},
   "outputs": [],
   "source": []
  }
 ],
 "metadata": {
  "kernelspec": {
   "display_name": "base",
   "language": "python",
   "name": "python3"
  },
  "language_info": {
   "codemirror_mode": {
    "name": "ipython",
    "version": 3
   },
   "file_extension": ".py",
   "mimetype": "text/x-python",
   "name": "python",
   "nbconvert_exporter": "python",
   "pygments_lexer": "ipython3",
   "version": "3.11.4"
  },
  "orig_nbformat": 4
 },
 "nbformat": 4,
 "nbformat_minor": 2
}
