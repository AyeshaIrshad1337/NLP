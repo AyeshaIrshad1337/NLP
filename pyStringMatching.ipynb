{
 "cells": [
  {
   "cell_type": "code",
   "execution_count": 4,
   "metadata": {},
   "outputs": [
    {
     "ename": "ImportError",
     "evalue": "cannot import name 'LCS' from 'py_stringmatching' (/home/ayeshairshad/.local/lib/python3.11/site-packages/py_stringmatching/__init__.py)",
     "output_type": "error",
     "traceback": [
      "\u001b[0;31m---------------------------------------------------------------------------\u001b[0m",
      "\u001b[0;31mImportError\u001b[0m                               Traceback (most recent call last)",
      "Cell \u001b[0;32mIn[4], line 1\u001b[0m\n\u001b[0;32m----> 1\u001b[0m \u001b[39mfrom\u001b[39;00m \u001b[39mpy_stringmatching\u001b[39;00m \u001b[39mimport\u001b[39;00m LCS, LCSubStr, Levenshtein, Jaro, JaroWinkler\n\u001b[1;32m      3\u001b[0m \u001b[39m# Longest Common Subsequence (LCS)\u001b[39;00m\n\u001b[1;32m      4\u001b[0m lcs_result, lcs_len \u001b[39m=\u001b[39m LCS()\u001b[39m.\u001b[39mget_raw_score(\u001b[39m\"\u001b[39m\u001b[39mstring\u001b[39m\u001b[39m\"\u001b[39m, \u001b[39m\"\u001b[39m\u001b[39mstrings\u001b[39m\u001b[39m\"\u001b[39m)\n",
      "\u001b[0;31mImportError\u001b[0m: cannot import name 'LCS' from 'py_stringmatching' (/home/ayeshairshad/.local/lib/python3.11/site-packages/py_stringmatching/__init__.py)"
     ]
    }
   ],
   "source": [
    "from py_stringmatching import LCS, LCSubStr, Levenshtein, Jaro, JaroWinkler\n",
    "\n",
    "# Longest Common Subsequence (LCS)\n",
    "lcs_result, lcs_len = LCS().get_raw_score(\"string\", \"strings\")\n",
    "\n",
    "# Longest Common Substring (LCSubStr)\n",
    "lcsubstr_result = LCSubStr().get_raw_score(\"string\", \"strings\")\n",
    "\n",
    "# Levenshtein distance between 2 strings\n",
    "levenshtein_result = Levenshtein().get_raw_score(\"string\", \"strings\")\n",
    "\n",
    "# Jaro similarity between 2 strings\n",
    "jaro_similarity = Jaro().get_raw_score(\"string\", \"strings\")\n",
    "\n",
    "# Jaro-Winkler similarity between 2 strings\n",
    "jaro_winkler_similarity = JaroWinkler().get_raw_score(\"string\", \"strings\")\n",
    "\n",
    "# Output results\n",
    "print(f\"LCS: {lcs_result}, Length: {lcs_len}\")\n",
    "print(f\"LCSubStr: {lcsubstr_result}\")\n",
    "print(f\"Levenshtein: {levenshtein_result}\")\n",
    "print(f\"Jaro Similarity: {jaro_similarity}\")\n",
    "print(f\"Jaro-Winkler Similarity: {jaro_winkler_similarity}\")\n"
   ]
  },
  {
   "cell_type": "code",
   "execution_count": null,
   "metadata": {},
   "outputs": [],
   "source": []
  }
 ],
 "metadata": {
  "kernelspec": {
   "display_name": "NLP",
   "language": "python",
   "name": "python3"
  },
  "language_info": {
   "codemirror_mode": {
    "name": "ipython",
    "version": 3
   },
   "file_extension": ".py",
   "mimetype": "text/x-python",
   "name": "python",
   "nbconvert_exporter": "python",
   "pygments_lexer": "ipython3",
   "version": "3.11.4"
  },
  "orig_nbformat": 4
 },
 "nbformat": 4,
 "nbformat_minor": 2
}
