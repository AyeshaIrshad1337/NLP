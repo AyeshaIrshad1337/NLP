{
 "cells": [
  {
   "cell_type": "code",
   "execution_count": 2,
   "metadata": {},
   "outputs": [],
   "source": [
    "import py_stringmatching as sm# create an alphabetical tokenizer that returns a bag of tokens\n",
    "\n",
    "alphabet_tok = sm.AlphabeticTokenizer()\n",
    "\n",
    "# create an alphanumeric tokenizer\n",
    "\n",
    "alnum_tok = sm.AlphanumericTokenizer()\n",
    "# create a delimiter tokenizer using comma as a delimiter\n",
    "\n",
    "delim_tok = sm.DelimiterTokenizer(delim_set=[','])\n",
    "\n",
    "# create a qgram tokenizer using q=3\n",
    "\n",
    "qg3_tok = sm.QgramTokenizer(qval=3)\n",
    "\n",
    "# create a whitespace tokenizer\n",
    "\n",
    "ws_tok = sm.WhitespaceTokenizer()\n"
   ]
  },
  {
   "cell_type": "code",
   "execution_count": 3,
   "metadata": {},
   "outputs": [],
   "source": [
    "alphabet_tok_set = sm.AlphabeticTokenizer(return_set=True)\n",
    "\n",
    "# create a whitespace tokenizer that returns a set of tokens\n",
    "\n",
    "ws_tok_set = sm.WhitespaceTokenizer(return_set=True)\n",
    "\n",
    "# create a qgram tokenizer with q=3 that returns a set of tokens\n",
    "\n",
    "qg3_tok_set = sm.QgramTokenizer(qval=3, return_set=True)\n"
   ]
  },
  {
   "cell_type": "code",
   "execution_count": 4,
   "metadata": {},
   "outputs": [
    {
     "data": {
      "text/plain": [
       "['.hello,', 'world!!', 'data,', 'science,', 'is', 'amazing!!.', 'hello.']"
      ]
     },
     "execution_count": 4,
     "metadata": {},
     "output_type": "execute_result"
    }
   ],
   "source": [
    "test_string = ' .hello, world!! data, science, is    amazing!!. hello.'\n",
    "\n",
    "# tokenize into a bag of alphabetical tokens\n",
    "\n",
    "alphabet_tok.tokenize(test_string)\n",
    "# tokenize into alphabetical tokens (with return_set set to True)\n",
    "\n",
    "alphabet_tok_set.tokenize(test_string)\n",
    "# tokenize using comma as the delimiter\n",
    "\n",
    "delim_tok.tokenize(test_string)\n",
    "# tokenize using whitespace as the delimiter\n",
    "\n",
    "ws_tok.tokenize(test_string)\n"
   ]
  },
  {
   "cell_type": "code",
   "execution_count": null,
   "metadata": {},
   "outputs": [],
   "source": []
  }
 ],
 "metadata": {
  "kernelspec": {
   "display_name": "NLP",
   "language": "python",
   "name": "python3"
  },
  "language_info": {
   "codemirror_mode": {
    "name": "ipython",
    "version": 3
   },
   "file_extension": ".py",
   "mimetype": "text/x-python",
   "name": "python",
   "nbconvert_exporter": "python",
   "pygments_lexer": "ipython3",
   "version": "3.11.5"
  },
  "orig_nbformat": 4
 },
 "nbformat": 4,
 "nbformat_minor": 2
}
