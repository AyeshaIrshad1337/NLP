{
 "cells": [
  {
   "cell_type": "code",
   "execution_count": 25,
   "metadata": {},
   "outputs": [
    {
     "name": "stdout",
     "output_type": "stream",
     "text": [
      "Defaulting to user installation because normal site-packages is not writeable\n",
      "Requirement already satisfied: beautifulsoup4 in /home/ayesha_irshad/.local/lib/python3.10/site-packages (4.12.2)\n",
      "Requirement already satisfied: soupsieve>1.2 in /home/ayesha_irshad/.local/lib/python3.10/site-packages (from beautifulsoup4) (2.4.1)\n"
     ]
    }
   ],
   "source": [
    "! pip install beautifulsoup4"
   ]
  },
  {
   "cell_type": "code",
   "execution_count": 26,
   "metadata": {},
   "outputs": [],
   "source": [
    "from bs4 import BeautifulSoup\n",
    "from urllib.request import urlopen"
   ]
  },
  {
   "cell_type": "code",
   "execution_count": 27,
   "metadata": {},
   "outputs": [],
   "source": [
    "myurl = \"https://stackoverflow.com/questions/19410018/how-to-count-the-number-of-words-in-a-sentence-ignoring-numbers-punctuation-an\"\n",
    "html = urlopen(myurl).read()"
   ]
  },
  {
   "cell_type": "code",
   "execution_count": 28,
   "metadata": {},
   "outputs": [],
   "source": [
    "soup = BeautifulSoup(html,\"html.parser\")\n",
    "question = soup.find(\"div\",{\"class\":\"question\"})"
   ]
  },
  {
   "cell_type": "code",
   "execution_count": 29,
   "metadata": {},
   "outputs": [],
   "source": [
    "ques_text = question.find(\"div\",{\"class\":\"s-prose js-post-body\"})"
   ]
  },
  {
   "cell_type": "code",
   "execution_count": 30,
   "metadata": {},
   "outputs": [
    {
     "name": "stdout",
     "output_type": "stream",
     "text": [
      "Question: \n",
      " How would I go about counting the words in a sentence? I'm using Python.\n",
      "For example, I might have the string: \n",
      "string = \"I     am having  a   very  nice  23!@$      day. \"\n",
      "\n",
      "That would be 7 words. I'm having trouble with the random amount of spaces after/before each word as well as when numbers or symbols are involved.\n"
     ]
    }
   ],
   "source": [
    "print(\"Question: \\n\",ques_text.get_text().strip())"
   ]
  },
  {
   "cell_type": "code",
   "execution_count": 34,
   "metadata": {},
   "outputs": [
    {
     "name": "stdout",
     "output_type": "stream",
     "text": [
      "Top Answer : \n",
      " str.split() without any arguments splits on runs of whitespace characters:\n",
      ">>> s = 'I am having a very nice day.'\n",
      ">>> \n",
      ">>> len(s.split())\n",
      "7\n",
      "\n",
      "From the linked documentation:\n",
      "\n",
      "If sep is not specified or is None, a different splitting algorithm is applied: runs of consecutive whitespace are regarded as a single separator, and the result will contain no empty strings at the start or end if the string has leading or trailing whitespace.\n"
     ]
    }
   ],
   "source": [
    "answers = soup.find(\"div\", {\"class\": \"answer\"})\n",
    "ans_text = answers.find(\"div\", {\"class\": \"s-prose js-post-body\"})\n",
    "print(\"Top Answer : \\n\", ans_text.get_text().strip())\n"
   ]
  },
  {
   "cell_type": "code",
   "execution_count": null,
   "metadata": {},
   "outputs": [],
   "source": []
  }
 ],
 "metadata": {
  "kernelspec": {
   "display_name": "Python 3",
   "language": "python",
   "name": "python3"
  },
  "language_info": {
   "codemirror_mode": {
    "name": "ipython",
    "version": 3
   },
   "file_extension": ".py",
   "mimetype": "text/x-python",
   "name": "python",
   "nbconvert_exporter": "python",
   "pygments_lexer": "ipython3",
   "version": "3.10.12"
  },
  "orig_nbformat": 4
 },
 "nbformat": 4,
 "nbformat_minor": 2
}
